{
 "cells": [
  {
   "cell_type": "code",
   "execution_count": 23,
   "id": "3b7e3f78-65b7-41fd-a1a4-dfcd4f9685dc",
   "metadata": {},
   "outputs": [],
   "source": [
    "from sudoku import Sudoku\n",
    "import gradio as gr"
   ]
  },
  {
   "cell_type": "code",
   "execution_count": 58,
   "id": "3fa5a196-9a1d-4670-8c69-106f3b972a13",
   "metadata": {},
   "outputs": [
    {
     "name": "stdout",
     "output_type": "stream",
     "text": [
      "{1: '🍇', 2: '🍈', 3: '🍉', 4: '🍊', 5: '🍋', 6: '🍌', 7: '🍍', 8: '🍎', 9: '🍏', 10: '🍐', 11: '🍑', 12: '🍒', 13: '🍓', None: ' '}\n"
     ]
    }
   ],
   "source": [
    "css = \"\"\"\n",
    "footer {\n",
    "    visibility: hidden;\n",
    "}\n",
    "\"\"\"\n",
    "\n",
    "html_templ = \"<table>{contents}</table>\"\n",
    "row_templ = \"<tr><td>{contents}</td></tr>\""
   ]
  },
  {
   "cell_type": "code",
   "execution_count": 78,
   "id": "67308ef5-50c2-4f53-b9d8-1eb3fdca0503",
   "metadata": {},
   "outputs": [],
   "source": [
    "def baby_sudoku(size: int = 2, diff: float = 0.5) -> list[list[str]]:\n",
    "    mstart = ord(\"\\U0001F346\")\n",
    "    map = {i: f\"{chr(mstart + i)}\" for i in range(1, size**2 + 1)}\n",
    "    map[None] = \"&nbsp;\"\n",
    "    s = Sudoku(size).difficulty(diff)\n",
    "    pictures = [[map[e] for e in row] for row in s.board]\n",
    "    rows = [row_templ.format(contents=\"</td><td>\".join(row)) for row in pictures]\n",
    "    return html_templ.format(contents=\"</tr><tr>\".join(rows))"
   ]
  },
  {
   "cell_type": "code",
   "execution_count": 79,
   "id": "ece46d8d-0d01-44d5-be9e-1c2d11461e0c",
   "metadata": {},
   "outputs": [
    {
     "data": {
      "text/plain": [
       "'<table><tr><td>&nbsp;</td><td>&nbsp;</td><td>🍈</td><td>🍉</td></tr></tr><tr><tr><td>🍈</td><td>&nbsp;</td><td>&nbsp;</td><td>&nbsp;</td></tr></tr><tr><tr><td>&nbsp;</td><td>🍈</td><td>&nbsp;</td><td>&nbsp;</td></tr></tr><tr><tr><td>🍊</td><td>🍇</td><td>🍉</td><td>🍈</td></tr></table>'"
      ]
     },
     "execution_count": 79,
     "metadata": {},
     "output_type": "execute_result"
    }
   ],
   "source": [
    "baby_sudoku(2)"
   ]
  },
  {
   "cell_type": "code",
   "execution_count": 76,
   "id": "7c9a8fc3-5e4f-4a0c-a8b3-de9000a02aab",
   "metadata": {},
   "outputs": [
    {
     "name": "stdout",
     "output_type": "stream",
     "text": [
      "* Running on local URL:  http://127.0.0.1:7875\n",
      "* Running on public URL: https://95e104947d467622ed.gradio.live\n",
      "\n",
      "This share link expires in 1 week. For free permanent hosting and GPU upgrades, run `gradio deploy` from the terminal in the working directory to deploy to Hugging Face Spaces (https://huggingface.co/spaces)\n"
     ]
    },
    {
     "data": {
      "text/html": [
       "<div><iframe src=\"https://95e104947d467622ed.gradio.live\" width=\"100%\" height=\"500\" allow=\"autoplay; camera; microphone; clipboard-read; clipboard-write;\" frameborder=\"0\" allowfullscreen></iframe></div>"
      ],
      "text/plain": [
       "<IPython.core.display.HTML object>"
      ]
     },
     "metadata": {},
     "output_type": "display_data"
    },
    {
     "data": {
      "text/plain": []
     },
     "execution_count": 76,
     "metadata": {},
     "output_type": "execute_result"
    }
   ],
   "source": [
    "with gr.Blocks(css=css) as demo:\n",
    "    fn = (baby_sudoku,)\n",
    "    with gr.Row():\n",
    "        size = gr.Slider(value=2, label=\"Size\", step=1, minimum=2, maximum=4)\n",
    "        diff = gr.Slider(\n",
    "            value=0.5, label=\"Difficulty\", step=0.1, minimum=0.1, maximum=0.9\n",
    "        )\n",
    "    result = gr.HTML(label=\"Results\")\n",
    "    # head=html_head,\n",
    "\n",
    "    params = {\n",
    "        \"fn\": baby_sudoku,\n",
    "        \"inputs\": [size, diff],\n",
    "        \"outputs\": [result],\n",
    "    }\n",
    "    demo.load(**params)\n",
    "    size.change(**params)\n",
    "    diff.change(**params)\n",
    "\n",
    "\n",
    "demo.launch(share=True)\n",
    "# demo.launch()\n",
    "# demo.launch(server_port=8000, server_name='0.0.0.0')\n",
    "# demo.launch(server_port=7861, server_name=\"0.0.0.0\", show_api=False)"
   ]
  }
 ],
 "metadata": {
  "kernelspec": {
   "display_name": "Python 3 (ipykernel)",
   "language": "python",
   "name": "python3"
  },
  "language_info": {
   "codemirror_mode": {
    "name": "ipython",
    "version": 3
   },
   "file_extension": ".py",
   "mimetype": "text/x-python",
   "name": "python",
   "nbconvert_exporter": "python",
   "pygments_lexer": "ipython3",
   "version": "3.10.12"
  }
 },
 "nbformat": 4,
 "nbformat_minor": 5
}
